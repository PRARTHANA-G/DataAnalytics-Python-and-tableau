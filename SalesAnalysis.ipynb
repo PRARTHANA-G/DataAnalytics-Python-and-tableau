{
  "nbformat": 4,
  "nbformat_minor": 0,
  "metadata": {
    "colab": {
      "name": "SalesAnalysis.ipynb",
      "provenance": [],
      "collapsed_sections": [],
      "authorship_tag": "ABX9TyMjGXiZrPxXqOcE/Z420LZ4",
      "include_colab_link": true
    },
    "kernelspec": {
      "name": "python3",
      "display_name": "Python 3"
    },
    "language_info": {
      "name": "python"
    }
  },
  "cells": [
    {
      "cell_type": "markdown",
      "metadata": {
        "id": "view-in-github",
        "colab_type": "text"
      },
      "source": [
        "<a href=\"https://colab.research.google.com/github/PRARTHANA-G/DataAnalytics-SalesDataAnalysis/blob/main/SalesAnalysis.ipynb\" target=\"_parent\"><img src=\"https://colab.research.google.com/assets/colab-badge.svg\" alt=\"Open In Colab\"/></a>"
      ]
    },
    {
      "cell_type": "code",
      "execution_count": null,
      "metadata": {
        "id": "bq3599X2cVTG"
      },
      "outputs": [],
      "source": [
        "import pandas as pd\n"
      ]
    },
    {
      "cell_type": "code",
      "source": [
        "data = pd.read_csv('/content/Data/transaction.csv')\n",
        "seasons = pd.read_csv('/content/Data/value_inc_seasons.csv')\n",
        "\n"
      ],
      "metadata": {
        "id": "2Wi08HcOdfO-"
      },
      "execution_count": null,
      "outputs": []
    },
    {
      "cell_type": "code",
      "source": [
        "data.describe()"
      ],
      "metadata": {
        "colab": {
          "base_uri": "https://localhost:8080/",
          "height": 239
        },
        "id": "wrZ8EOlOhlv8",
        "outputId": "51a9bc69-5a33-445b-ffe4-0c8b9c642496"
      },
      "execution_count": null,
      "outputs": [
        {
          "output_type": "execute_result",
          "data": {
            "text/plain": [
              "       UserId;TransactionId;Year;Month;Day;Time;ItemCode;ItemDescription;NumberOfItemsPurchased;CostPerItem;SellingPricePerItem;Country;ClientKeywords\n",
              "count                                                7157                                                                                             \n",
              "unique                                                  4                                                                                             \n",
              "top                                    '2-5 Year Client']                                                                                             \n",
              "freq                                                 3501                                                                                             "
            ],
            "text/html": [
              "\n",
              "  <div id=\"df-fb2c5abd-72a3-48ca-b571-caff03638a67\">\n",
              "    <div class=\"colab-df-container\">\n",
              "      <div>\n",
              "<style scoped>\n",
              "    .dataframe tbody tr th:only-of-type {\n",
              "        vertical-align: middle;\n",
              "    }\n",
              "\n",
              "    .dataframe tbody tr th {\n",
              "        vertical-align: top;\n",
              "    }\n",
              "\n",
              "    .dataframe thead th {\n",
              "        text-align: right;\n",
              "    }\n",
              "</style>\n",
              "<table border=\"1\" class=\"dataframe\">\n",
              "  <thead>\n",
              "    <tr style=\"text-align: right;\">\n",
              "      <th></th>\n",
              "      <th>UserId;TransactionId;Year;Month;Day;Time;ItemCode;ItemDescription;NumberOfItemsPurchased;CostPerItem;SellingPricePerItem;Country;ClientKeywords</th>\n",
              "    </tr>\n",
              "  </thead>\n",
              "  <tbody>\n",
              "    <tr>\n",
              "      <th>count</th>\n",
              "      <td>7157</td>\n",
              "    </tr>\n",
              "    <tr>\n",
              "      <th>unique</th>\n",
              "      <td>4</td>\n",
              "    </tr>\n",
              "    <tr>\n",
              "      <th>top</th>\n",
              "      <td>'2-5 Year Client']</td>\n",
              "    </tr>\n",
              "    <tr>\n",
              "      <th>freq</th>\n",
              "      <td>3501</td>\n",
              "    </tr>\n",
              "  </tbody>\n",
              "</table>\n",
              "</div>\n",
              "      <button class=\"colab-df-convert\" onclick=\"convertToInteractive('df-fb2c5abd-72a3-48ca-b571-caff03638a67')\"\n",
              "              title=\"Convert this dataframe to an interactive table.\"\n",
              "              style=\"display:none;\">\n",
              "        \n",
              "  <svg xmlns=\"http://www.w3.org/2000/svg\" height=\"24px\"viewBox=\"0 0 24 24\"\n",
              "       width=\"24px\">\n",
              "    <path d=\"M0 0h24v24H0V0z\" fill=\"none\"/>\n",
              "    <path d=\"M18.56 5.44l.94 2.06.94-2.06 2.06-.94-2.06-.94-.94-2.06-.94 2.06-2.06.94zm-11 1L8.5 8.5l.94-2.06 2.06-.94-2.06-.94L8.5 2.5l-.94 2.06-2.06.94zm10 10l.94 2.06.94-2.06 2.06-.94-2.06-.94-.94-2.06-.94 2.06-2.06.94z\"/><path d=\"M17.41 7.96l-1.37-1.37c-.4-.4-.92-.59-1.43-.59-.52 0-1.04.2-1.43.59L10.3 9.45l-7.72 7.72c-.78.78-.78 2.05 0 2.83L4 21.41c.39.39.9.59 1.41.59.51 0 1.02-.2 1.41-.59l7.78-7.78 2.81-2.81c.8-.78.8-2.07 0-2.86zM5.41 20L4 18.59l7.72-7.72 1.47 1.35L5.41 20z\"/>\n",
              "  </svg>\n",
              "      </button>\n",
              "      \n",
              "  <style>\n",
              "    .colab-df-container {\n",
              "      display:flex;\n",
              "      flex-wrap:wrap;\n",
              "      gap: 12px;\n",
              "    }\n",
              "\n",
              "    .colab-df-convert {\n",
              "      background-color: #E8F0FE;\n",
              "      border: none;\n",
              "      border-radius: 50%;\n",
              "      cursor: pointer;\n",
              "      display: none;\n",
              "      fill: #1967D2;\n",
              "      height: 32px;\n",
              "      padding: 0 0 0 0;\n",
              "      width: 32px;\n",
              "    }\n",
              "\n",
              "    .colab-df-convert:hover {\n",
              "      background-color: #E2EBFA;\n",
              "      box-shadow: 0px 1px 2px rgba(60, 64, 67, 0.3), 0px 1px 3px 1px rgba(60, 64, 67, 0.15);\n",
              "      fill: #174EA6;\n",
              "    }\n",
              "\n",
              "    [theme=dark] .colab-df-convert {\n",
              "      background-color: #3B4455;\n",
              "      fill: #D2E3FC;\n",
              "    }\n",
              "\n",
              "    [theme=dark] .colab-df-convert:hover {\n",
              "      background-color: #434B5C;\n",
              "      box-shadow: 0px 1px 3px 1px rgba(0, 0, 0, 0.15);\n",
              "      filter: drop-shadow(0px 1px 2px rgba(0, 0, 0, 0.3));\n",
              "      fill: #FFFFFF;\n",
              "    }\n",
              "  </style>\n",
              "\n",
              "      <script>\n",
              "        const buttonEl =\n",
              "          document.querySelector('#df-fb2c5abd-72a3-48ca-b571-caff03638a67 button.colab-df-convert');\n",
              "        buttonEl.style.display =\n",
              "          google.colab.kernel.accessAllowed ? 'block' : 'none';\n",
              "\n",
              "        async function convertToInteractive(key) {\n",
              "          const element = document.querySelector('#df-fb2c5abd-72a3-48ca-b571-caff03638a67');\n",
              "          const dataTable =\n",
              "            await google.colab.kernel.invokeFunction('convertToInteractive',\n",
              "                                                     [key], {});\n",
              "          if (!dataTable) return;\n",
              "\n",
              "          const docLinkHtml = 'Like what you see? Visit the ' +\n",
              "            '<a target=\"_blank\" href=https://colab.research.google.com/notebooks/data_table.ipynb>data table notebook</a>'\n",
              "            + ' to learn more about interactive tables.';\n",
              "          element.innerHTML = '';\n",
              "          dataTable['output_type'] = 'display_data';\n",
              "          await google.colab.output.renderOutput(dataTable, element);\n",
              "          const docLink = document.createElement('div');\n",
              "          docLink.innerHTML = docLinkHtml;\n",
              "          element.appendChild(docLink);\n",
              "        }\n",
              "      </script>\n",
              "    </div>\n",
              "  </div>\n",
              "  "
            ]
          },
          "metadata": {},
          "execution_count": 99
        }
      ]
    },
    {
      "cell_type": "code",
      "source": [
        "data = pd.read_csv('/content/Data/transaction.csv',sep=';')"
      ],
      "metadata": {
        "id": "ZsMxvjUZh21t"
      },
      "execution_count": null,
      "outputs": []
    },
    {
      "cell_type": "code",
      "source": [
        "data.describe()\n"
      ],
      "metadata": {
        "colab": {
          "base_uri": "https://localhost:8080/",
          "height": 364
        },
        "id": "_HgWveXpiEJJ",
        "outputId": "f3e88b8b-77a9-46c5-f69e-9b462c340251"
      },
      "execution_count": null,
      "outputs": [
        {
          "output_type": "execute_result",
          "data": {
            "text/plain": [
              "              UserId  TransactionId         Year          Day      ItemCode  \\\n",
              "count    7157.000000   7.157000e+03  7157.000000  7157.000000  7.157000e+03   \n",
              "mean   242895.723208   6.161401e+06  2018.307671    15.904429  6.540275e+05   \n",
              "std    141623.199145   1.476304e+05     0.853634     8.592350  4.497542e+05   \n",
              "min        -1.000000   5.900070e+06  2018.000000     1.000000 -1.000000e+00   \n",
              "25%    260442.000000   6.030134e+06  2018.000000     9.000000  4.608030e+05   \n",
              "50%    302589.000000   6.169812e+06  2018.000000    16.000000  4.752720e+05   \n",
              "75%    342867.000000   6.291340e+06  2019.000000    23.000000  4.883340e+05   \n",
              "max    383943.000000   6.397435e+06  2028.000000    31.000000  1.894494e+06   \n",
              "\n",
              "       NumberOfItemsPurchased  CostPerItem  SellingPricePerItem  \n",
              "count             7157.000000  7157.000000          7157.000000  \n",
              "mean                29.031298     6.801232             9.472366  \n",
              "std                107.103325    93.214840           110.807754  \n",
              "min              -4530.000000     0.000000             0.000000  \n",
              "25%                  3.000000     1.730000             2.250000  \n",
              "50%                  9.000000     2.900000             4.100000  \n",
              "75%                 36.000000     5.700000             8.210000  \n",
              "max               3060.000000  6257.260000          6882.990000  "
            ],
            "text/html": [
              "\n",
              "  <div id=\"df-a0c6f4e0-2c3f-4c30-afca-30fa86997cc6\">\n",
              "    <div class=\"colab-df-container\">\n",
              "      <div>\n",
              "<style scoped>\n",
              "    .dataframe tbody tr th:only-of-type {\n",
              "        vertical-align: middle;\n",
              "    }\n",
              "\n",
              "    .dataframe tbody tr th {\n",
              "        vertical-align: top;\n",
              "    }\n",
              "\n",
              "    .dataframe thead th {\n",
              "        text-align: right;\n",
              "    }\n",
              "</style>\n",
              "<table border=\"1\" class=\"dataframe\">\n",
              "  <thead>\n",
              "    <tr style=\"text-align: right;\">\n",
              "      <th></th>\n",
              "      <th>UserId</th>\n",
              "      <th>TransactionId</th>\n",
              "      <th>Year</th>\n",
              "      <th>Day</th>\n",
              "      <th>ItemCode</th>\n",
              "      <th>NumberOfItemsPurchased</th>\n",
              "      <th>CostPerItem</th>\n",
              "      <th>SellingPricePerItem</th>\n",
              "    </tr>\n",
              "  </thead>\n",
              "  <tbody>\n",
              "    <tr>\n",
              "      <th>count</th>\n",
              "      <td>7157.000000</td>\n",
              "      <td>7.157000e+03</td>\n",
              "      <td>7157.000000</td>\n",
              "      <td>7157.000000</td>\n",
              "      <td>7.157000e+03</td>\n",
              "      <td>7157.000000</td>\n",
              "      <td>7157.000000</td>\n",
              "      <td>7157.000000</td>\n",
              "    </tr>\n",
              "    <tr>\n",
              "      <th>mean</th>\n",
              "      <td>242895.723208</td>\n",
              "      <td>6.161401e+06</td>\n",
              "      <td>2018.307671</td>\n",
              "      <td>15.904429</td>\n",
              "      <td>6.540275e+05</td>\n",
              "      <td>29.031298</td>\n",
              "      <td>6.801232</td>\n",
              "      <td>9.472366</td>\n",
              "    </tr>\n",
              "    <tr>\n",
              "      <th>std</th>\n",
              "      <td>141623.199145</td>\n",
              "      <td>1.476304e+05</td>\n",
              "      <td>0.853634</td>\n",
              "      <td>8.592350</td>\n",
              "      <td>4.497542e+05</td>\n",
              "      <td>107.103325</td>\n",
              "      <td>93.214840</td>\n",
              "      <td>110.807754</td>\n",
              "    </tr>\n",
              "    <tr>\n",
              "      <th>min</th>\n",
              "      <td>-1.000000</td>\n",
              "      <td>5.900070e+06</td>\n",
              "      <td>2018.000000</td>\n",
              "      <td>1.000000</td>\n",
              "      <td>-1.000000e+00</td>\n",
              "      <td>-4530.000000</td>\n",
              "      <td>0.000000</td>\n",
              "      <td>0.000000</td>\n",
              "    </tr>\n",
              "    <tr>\n",
              "      <th>25%</th>\n",
              "      <td>260442.000000</td>\n",
              "      <td>6.030134e+06</td>\n",
              "      <td>2018.000000</td>\n",
              "      <td>9.000000</td>\n",
              "      <td>4.608030e+05</td>\n",
              "      <td>3.000000</td>\n",
              "      <td>1.730000</td>\n",
              "      <td>2.250000</td>\n",
              "    </tr>\n",
              "    <tr>\n",
              "      <th>50%</th>\n",
              "      <td>302589.000000</td>\n",
              "      <td>6.169812e+06</td>\n",
              "      <td>2018.000000</td>\n",
              "      <td>16.000000</td>\n",
              "      <td>4.752720e+05</td>\n",
              "      <td>9.000000</td>\n",
              "      <td>2.900000</td>\n",
              "      <td>4.100000</td>\n",
              "    </tr>\n",
              "    <tr>\n",
              "      <th>75%</th>\n",
              "      <td>342867.000000</td>\n",
              "      <td>6.291340e+06</td>\n",
              "      <td>2019.000000</td>\n",
              "      <td>23.000000</td>\n",
              "      <td>4.883340e+05</td>\n",
              "      <td>36.000000</td>\n",
              "      <td>5.700000</td>\n",
              "      <td>8.210000</td>\n",
              "    </tr>\n",
              "    <tr>\n",
              "      <th>max</th>\n",
              "      <td>383943.000000</td>\n",
              "      <td>6.397435e+06</td>\n",
              "      <td>2028.000000</td>\n",
              "      <td>31.000000</td>\n",
              "      <td>1.894494e+06</td>\n",
              "      <td>3060.000000</td>\n",
              "      <td>6257.260000</td>\n",
              "      <td>6882.990000</td>\n",
              "    </tr>\n",
              "  </tbody>\n",
              "</table>\n",
              "</div>\n",
              "      <button class=\"colab-df-convert\" onclick=\"convertToInteractive('df-a0c6f4e0-2c3f-4c30-afca-30fa86997cc6')\"\n",
              "              title=\"Convert this dataframe to an interactive table.\"\n",
              "              style=\"display:none;\">\n",
              "        \n",
              "  <svg xmlns=\"http://www.w3.org/2000/svg\" height=\"24px\"viewBox=\"0 0 24 24\"\n",
              "       width=\"24px\">\n",
              "    <path d=\"M0 0h24v24H0V0z\" fill=\"none\"/>\n",
              "    <path d=\"M18.56 5.44l.94 2.06.94-2.06 2.06-.94-2.06-.94-.94-2.06-.94 2.06-2.06.94zm-11 1L8.5 8.5l.94-2.06 2.06-.94-2.06-.94L8.5 2.5l-.94 2.06-2.06.94zm10 10l.94 2.06.94-2.06 2.06-.94-2.06-.94-.94-2.06-.94 2.06-2.06.94z\"/><path d=\"M17.41 7.96l-1.37-1.37c-.4-.4-.92-.59-1.43-.59-.52 0-1.04.2-1.43.59L10.3 9.45l-7.72 7.72c-.78.78-.78 2.05 0 2.83L4 21.41c.39.39.9.59 1.41.59.51 0 1.02-.2 1.41-.59l7.78-7.78 2.81-2.81c.8-.78.8-2.07 0-2.86zM5.41 20L4 18.59l7.72-7.72 1.47 1.35L5.41 20z\"/>\n",
              "  </svg>\n",
              "      </button>\n",
              "      \n",
              "  <style>\n",
              "    .colab-df-container {\n",
              "      display:flex;\n",
              "      flex-wrap:wrap;\n",
              "      gap: 12px;\n",
              "    }\n",
              "\n",
              "    .colab-df-convert {\n",
              "      background-color: #E8F0FE;\n",
              "      border: none;\n",
              "      border-radius: 50%;\n",
              "      cursor: pointer;\n",
              "      display: none;\n",
              "      fill: #1967D2;\n",
              "      height: 32px;\n",
              "      padding: 0 0 0 0;\n",
              "      width: 32px;\n",
              "    }\n",
              "\n",
              "    .colab-df-convert:hover {\n",
              "      background-color: #E2EBFA;\n",
              "      box-shadow: 0px 1px 2px rgba(60, 64, 67, 0.3), 0px 1px 3px 1px rgba(60, 64, 67, 0.15);\n",
              "      fill: #174EA6;\n",
              "    }\n",
              "\n",
              "    [theme=dark] .colab-df-convert {\n",
              "      background-color: #3B4455;\n",
              "      fill: #D2E3FC;\n",
              "    }\n",
              "\n",
              "    [theme=dark] .colab-df-convert:hover {\n",
              "      background-color: #434B5C;\n",
              "      box-shadow: 0px 1px 3px 1px rgba(0, 0, 0, 0.15);\n",
              "      filter: drop-shadow(0px 1px 2px rgba(0, 0, 0, 0.3));\n",
              "      fill: #FFFFFF;\n",
              "    }\n",
              "  </style>\n",
              "\n",
              "      <script>\n",
              "        const buttonEl =\n",
              "          document.querySelector('#df-a0c6f4e0-2c3f-4c30-afca-30fa86997cc6 button.colab-df-convert');\n",
              "        buttonEl.style.display =\n",
              "          google.colab.kernel.accessAllowed ? 'block' : 'none';\n",
              "\n",
              "        async function convertToInteractive(key) {\n",
              "          const element = document.querySelector('#df-a0c6f4e0-2c3f-4c30-afca-30fa86997cc6');\n",
              "          const dataTable =\n",
              "            await google.colab.kernel.invokeFunction('convertToInteractive',\n",
              "                                                     [key], {});\n",
              "          if (!dataTable) return;\n",
              "\n",
              "          const docLinkHtml = 'Like what you see? Visit the ' +\n",
              "            '<a target=\"_blank\" href=https://colab.research.google.com/notebooks/data_table.ipynb>data table notebook</a>'\n",
              "            + ' to learn more about interactive tables.';\n",
              "          element.innerHTML = '';\n",
              "          dataTable['output_type'] = 'display_data';\n",
              "          await google.colab.output.renderOutput(dataTable, element);\n",
              "          const docLink = document.createElement('div');\n",
              "          docLink.innerHTML = docLinkHtml;\n",
              "          element.appendChild(docLink);\n",
              "        }\n",
              "      </script>\n",
              "    </div>\n",
              "  </div>\n",
              "  "
            ]
          },
          "metadata": {},
          "execution_count": 101
        }
      ]
    },
    {
      "cell_type": "markdown",
      "source": [
        "#Summary of the data\n"
      ],
      "metadata": {
        "id": "YSNvIBiEiwlW"
      }
    },
    {
      "cell_type": "code",
      "source": [
        "data.info()"
      ],
      "metadata": {
        "colab": {
          "base_uri": "https://localhost:8080/"
        },
        "id": "BCYDLcDkiGX6",
        "outputId": "22ec24b0-2e2b-428e-d579-17ed2f10f2a2"
      },
      "execution_count": null,
      "outputs": [
        {
          "output_type": "stream",
          "name": "stdout",
          "text": [
            "<class 'pandas.core.frame.DataFrame'>\n",
            "RangeIndex: 7157 entries, 0 to 7156\n",
            "Data columns (total 13 columns):\n",
            " #   Column                  Non-Null Count  Dtype  \n",
            "---  ------                  --------------  -----  \n",
            " 0   UserId                  7157 non-null   int64  \n",
            " 1   TransactionId           7157 non-null   int64  \n",
            " 2   Year                    7157 non-null   int64  \n",
            " 3   Month                   7157 non-null   object \n",
            " 4   Day                     7157 non-null   int64  \n",
            " 5   Time                    7157 non-null   object \n",
            " 6   ItemCode                7157 non-null   int64  \n",
            " 7   ItemDescription         7142 non-null   object \n",
            " 8   NumberOfItemsPurchased  7157 non-null   int64  \n",
            " 9   CostPerItem             7157 non-null   float64\n",
            " 10  SellingPricePerItem     7157 non-null   float64\n",
            " 11  Country                 7157 non-null   object \n",
            " 12  ClientKeywords          7157 non-null   object \n",
            "dtypes: float64(2), int64(6), object(5)\n",
            "memory usage: 727.0+ KB\n"
          ]
        }
      ]
    },
    {
      "cell_type": "markdown",
      "source": [
        "#Cleaning\n"
      ],
      "metadata": {
        "id": "7MkMHBVBj_UO"
      }
    },
    {
      "cell_type": "code",
      "source": [
        "CostPerItem = 11.73"
      ],
      "metadata": {
        "id": "myBZxEfkkWVd"
      },
      "execution_count": null,
      "outputs": []
    },
    {
      "cell_type": "code",
      "source": [
        "SellingPricePerItem=21.11"
      ],
      "metadata": {
        "id": "5sFrYeCNkkKn"
      },
      "execution_count": null,
      "outputs": []
    },
    {
      "cell_type": "code",
      "source": [
        "numberPurchased = 6"
      ],
      "metadata": {
        "id": "cAH-LQPSko_G"
      },
      "execution_count": null,
      "outputs": []
    },
    {
      "cell_type": "code",
      "source": [
        "ProfitPerItem = SellingPricePerItem-CostPerItem\n",
        "ProfitPerItem\n",
        "ProfitPerTrans = numberPurchased*ProfitPerItem"
      ],
      "metadata": {
        "id": "u2uCXfCPkvLw"
      },
      "execution_count": null,
      "outputs": []
    },
    {
      "cell_type": "code",
      "source": [
        "CostPerItem = data['CostPerItem']\n",
        "CostPerItem "
      ],
      "metadata": {
        "colab": {
          "base_uri": "https://localhost:8080/"
        },
        "id": "zkc6QnvAlAuQ",
        "outputId": "7287d98b-d65a-4407-91b5-e5e358f37c8a"
      },
      "execution_count": null,
      "outputs": [
        {
          "output_type": "execute_result",
          "data": {
            "text/plain": [
              "0       11.73\n",
              "1        3.52\n",
              "2        0.90\n",
              "3        1.73\n",
              "4        3.40\n",
              "        ...  \n",
              "7152     5.70\n",
              "7153     3.52\n",
              "7154     6.84\n",
              "7155     0.27\n",
              "7156     4.08\n",
              "Name: CostPerItem, Length: 7157, dtype: float64"
            ]
          },
          "metadata": {},
          "execution_count": 107
        }
      ]
    },
    {
      "cell_type": "code",
      "source": [
        "numberPurchased = data['NumberOfItemsPurchased']\n",
        "numberPurchased"
      ],
      "metadata": {
        "colab": {
          "base_uri": "https://localhost:8080/"
        },
        "id": "a7B84hHVmmGg",
        "outputId": "12c01412-7cbe-4d78-dfd0-b723a0aa3c87"
      },
      "execution_count": null,
      "outputs": [
        {
          "output_type": "execute_result",
          "data": {
            "text/plain": [
              "0         6\n",
              "1         3\n",
              "2        72\n",
              "3         3\n",
              "4         3\n",
              "       ... \n",
              "7152      3\n",
              "7153    750\n",
              "7154     12\n",
              "7155    432\n",
              "7156      6\n",
              "Name: NumberOfItemsPurchased, Length: 7157, dtype: int64"
            ]
          },
          "metadata": {},
          "execution_count": 108
        }
      ]
    },
    {
      "cell_type": "code",
      "source": [
        "CostPerTransaction = numberPurchased*CostPerItem \n",
        "CostPerTransaction"
      ],
      "metadata": {
        "colab": {
          "base_uri": "https://localhost:8080/"
        },
        "id": "tSf4oPRlm2Wi",
        "outputId": "60358cc2-a236-4970-dca6-b304ffd23cd5"
      },
      "execution_count": null,
      "outputs": [
        {
          "output_type": "execute_result",
          "data": {
            "text/plain": [
              "0         70.38\n",
              "1         10.56\n",
              "2         64.80\n",
              "3          5.19\n",
              "4         10.20\n",
              "         ...   \n",
              "7152      17.10\n",
              "7153    2640.00\n",
              "7154      82.08\n",
              "7155     116.64\n",
              "7156      24.48\n",
              "Length: 7157, dtype: float64"
            ]
          },
          "metadata": {},
          "execution_count": 109
        }
      ]
    },
    {
      "cell_type": "code",
      "source": [
        "#add new col to df\n",
        "data['CostPerTransaction'] = CostPerTransaction\n",
        "data.info()"
      ],
      "metadata": {
        "colab": {
          "base_uri": "https://localhost:8080/"
        },
        "id": "x_-W6didnFfc",
        "outputId": "d69eb73a-3b0d-4ddd-db50-7199f9208c65"
      },
      "execution_count": null,
      "outputs": [
        {
          "output_type": "stream",
          "name": "stdout",
          "text": [
            "<class 'pandas.core.frame.DataFrame'>\n",
            "RangeIndex: 7157 entries, 0 to 7156\n",
            "Data columns (total 14 columns):\n",
            " #   Column                  Non-Null Count  Dtype  \n",
            "---  ------                  --------------  -----  \n",
            " 0   UserId                  7157 non-null   int64  \n",
            " 1   TransactionId           7157 non-null   int64  \n",
            " 2   Year                    7157 non-null   int64  \n",
            " 3   Month                   7157 non-null   object \n",
            " 4   Day                     7157 non-null   int64  \n",
            " 5   Time                    7157 non-null   object \n",
            " 6   ItemCode                7157 non-null   int64  \n",
            " 7   ItemDescription         7142 non-null   object \n",
            " 8   NumberOfItemsPurchased  7157 non-null   int64  \n",
            " 9   CostPerItem             7157 non-null   float64\n",
            " 10  SellingPricePerItem     7157 non-null   float64\n",
            " 11  Country                 7157 non-null   object \n",
            " 12  ClientKeywords          7157 non-null   object \n",
            " 13  CostPerTransaction      7157 non-null   float64\n",
            "dtypes: float64(3), int64(6), object(5)\n",
            "memory usage: 782.9+ KB\n"
          ]
        }
      ]
    },
    {
      "cell_type": "code",
      "source": [
        "data['SalesPertransaction']= data['SellingPricePerItem']*data['NumberOfItemsPurchased']"
      ],
      "metadata": {
        "id": "PXeq3SNCnaNw"
      },
      "execution_count": null,
      "outputs": []
    },
    {
      "cell_type": "code",
      "source": [
        "data['ProfitPerTransaction'] = data['SalesPertransaction']-data['CostPerTransaction']"
      ],
      "metadata": {
        "id": "TWv0qNzcn4wW"
      },
      "execution_count": null,
      "outputs": []
    },
    {
      "cell_type": "code",
      "source": [
        "data['Markup'] = (data['SalesPertransaction']-data['CostPerTransaction'])/data['CostPerTransaction']"
      ],
      "metadata": {
        "id": "E0634aJooozy"
      },
      "execution_count": null,
      "outputs": []
    },
    {
      "cell_type": "code",
      "source": [
        "#round values in a col\n",
        "\n",
        "data['Markup'] = round(data['Markup'], 2)"
      ],
      "metadata": {
        "id": "Nmkf2jy8pGzO"
      },
      "execution_count": null,
      "outputs": []
    },
    {
      "cell_type": "code",
      "source": [
        "#combine columns\n",
        "day= data['Day'].astype(str)\n",
        "year = data['Year'].astype(str)"
      ],
      "metadata": {
        "id": "XLQ0_by3__iT"
      },
      "execution_count": null,
      "outputs": []
    },
    {
      "cell_type": "code",
      "source": [
        "data['Date'] = day+ '-' +data['Month']+'-'+year"
      ],
      "metadata": {
        "id": "BHt_srBlC5sl"
      },
      "execution_count": null,
      "outputs": []
    },
    {
      "cell_type": "code",
      "source": [
        "data.info()"
      ],
      "metadata": {
        "colab": {
          "base_uri": "https://localhost:8080/"
        },
        "id": "XoLW88jADRvu",
        "outputId": "25d702f2-b6e7-48fe-9dcd-eceed3e72ee4"
      },
      "execution_count": null,
      "outputs": [
        {
          "output_type": "stream",
          "name": "stdout",
          "text": [
            "<class 'pandas.core.frame.DataFrame'>\n",
            "RangeIndex: 7157 entries, 0 to 7156\n",
            "Data columns (total 18 columns):\n",
            " #   Column                  Non-Null Count  Dtype  \n",
            "---  ------                  --------------  -----  \n",
            " 0   UserId                  7157 non-null   int64  \n",
            " 1   TransactionId           7157 non-null   int64  \n",
            " 2   Year                    7157 non-null   int64  \n",
            " 3   Month                   7157 non-null   object \n",
            " 4   Day                     7157 non-null   int64  \n",
            " 5   Time                    7157 non-null   object \n",
            " 6   ItemCode                7157 non-null   int64  \n",
            " 7   ItemDescription         7142 non-null   object \n",
            " 8   NumberOfItemsPurchased  7157 non-null   int64  \n",
            " 9   CostPerItem             7157 non-null   float64\n",
            " 10  SellingPricePerItem     7157 non-null   float64\n",
            " 11  Country                 7157 non-null   object \n",
            " 12  ClientKeywords          7157 non-null   object \n",
            " 13  CostPerTransaction      7157 non-null   float64\n",
            " 14  SalesPertransaction     7157 non-null   float64\n",
            " 15  ProfitPerTransaction    7157 non-null   float64\n",
            " 16  Markup                  7123 non-null   float64\n",
            " 17  Date                    7157 non-null   object \n",
            "dtypes: float64(6), int64(6), object(6)\n",
            "memory usage: 1006.6+ KB\n"
          ]
        }
      ]
    },
    {
      "cell_type": "code",
      "source": [
        "#using iloc to use specific cols and rows\n",
        "\n",
        "data.iloc[0]#row with index=0"
      ],
      "metadata": {
        "colab": {
          "base_uri": "https://localhost:8080/"
        },
        "id": "opzfZep4DVoe",
        "outputId": "3602a15b-3ead-486f-b92b-bbc0fe61202c"
      },
      "execution_count": null,
      "outputs": [
        {
          "output_type": "execute_result",
          "data": {
            "text/plain": [
              "UserId                                                               278166\n",
              "TransactionId                                                       6355745\n",
              "Year                                                                   2019\n",
              "Month                                                                   Feb\n",
              "Day                                                                       2\n",
              "Time                                                               12:50:00\n",
              "ItemCode                                                             465549\n",
              "ItemDescription                            FAMILY ALBUM WHITE PICTURE FRAME\n",
              "NumberOfItemsPurchased                                                    6\n",
              "CostPerItem                                                           11.73\n",
              "SellingPricePerItem                                                   21.11\n",
              "Country                                                      United Kingdom\n",
              "ClientKeywords            ['Senior', 'Solo Entrepreneur', '2-5 Year Clie...\n",
              "CostPerTransaction                                                    70.38\n",
              "SalesPertransaction                                                  126.66\n",
              "ProfitPerTransaction                                                  56.28\n",
              "Markup                                                                  0.8\n",
              "Date                                                             2-Feb-2019\n",
              "Name: 0, dtype: object"
            ]
          },
          "metadata": {},
          "execution_count": 118
        }
      ]
    },
    {
      "cell_type": "code",
      "source": [
        "data.iloc[0:3]"
      ],
      "metadata": {
        "colab": {
          "base_uri": "https://localhost:8080/",
          "height": 312
        },
        "id": "Sgb80__dDzlz",
        "outputId": "a4848421-7a66-4085-d0c6-b38bef6fc400"
      },
      "execution_count": null,
      "outputs": [
        {
          "output_type": "execute_result",
          "data": {
            "text/plain": [
              "   UserId  TransactionId  Year Month  Day      Time  ItemCode  \\\n",
              "0  278166        6355745  2019   Feb    2  12:50:00    465549   \n",
              "1  337701        6283376  2018   Dec   26  09:06:00    482370   \n",
              "2  267099        6385599  2019   Feb   15  09:45:00    490728   \n",
              "\n",
              "                     ItemDescription  NumberOfItemsPurchased  CostPerItem  \\\n",
              "0   FAMILY ALBUM WHITE PICTURE FRAME                       6        11.73   \n",
              "1              LONDON BUS COFFEE MUG                       3         3.52   \n",
              "2  SET 12 COLOUR PENCILS DOLLY GIRL                       72         0.90   \n",
              "\n",
              "   SellingPricePerItem         Country  \\\n",
              "0                21.11  United Kingdom   \n",
              "1                 3.87  United Kingdom   \n",
              "2                 1.62          France   \n",
              "\n",
              "                                      ClientKeywords  CostPerTransaction  \\\n",
              "0  ['Senior', 'Solo Entrepreneur', '2-5 Year Clie...               70.38   \n",
              "1   ['Middle Age', 'Corporation', '2-5 Year Client']               10.56   \n",
              "2   ['Middle Age', 'Corporation', '2-5 Year Client']               64.80   \n",
              "\n",
              "   SalesPertransaction  ProfitPerTransaction  Markup         Date  \n",
              "0               126.66                 56.28     0.8   2-Feb-2019  \n",
              "1                11.61                  1.05     0.1  26-Dec-2018  \n",
              "2               116.64                 51.84     0.8  15-Feb-2019  "
            ],
            "text/html": [
              "\n",
              "  <div id=\"df-0e206501-af19-4bb7-a675-6d272bd19e9a\">\n",
              "    <div class=\"colab-df-container\">\n",
              "      <div>\n",
              "<style scoped>\n",
              "    .dataframe tbody tr th:only-of-type {\n",
              "        vertical-align: middle;\n",
              "    }\n",
              "\n",
              "    .dataframe tbody tr th {\n",
              "        vertical-align: top;\n",
              "    }\n",
              "\n",
              "    .dataframe thead th {\n",
              "        text-align: right;\n",
              "    }\n",
              "</style>\n",
              "<table border=\"1\" class=\"dataframe\">\n",
              "  <thead>\n",
              "    <tr style=\"text-align: right;\">\n",
              "      <th></th>\n",
              "      <th>UserId</th>\n",
              "      <th>TransactionId</th>\n",
              "      <th>Year</th>\n",
              "      <th>Month</th>\n",
              "      <th>Day</th>\n",
              "      <th>Time</th>\n",
              "      <th>ItemCode</th>\n",
              "      <th>ItemDescription</th>\n",
              "      <th>NumberOfItemsPurchased</th>\n",
              "      <th>CostPerItem</th>\n",
              "      <th>SellingPricePerItem</th>\n",
              "      <th>Country</th>\n",
              "      <th>ClientKeywords</th>\n",
              "      <th>CostPerTransaction</th>\n",
              "      <th>SalesPertransaction</th>\n",
              "      <th>ProfitPerTransaction</th>\n",
              "      <th>Markup</th>\n",
              "      <th>Date</th>\n",
              "    </tr>\n",
              "  </thead>\n",
              "  <tbody>\n",
              "    <tr>\n",
              "      <th>0</th>\n",
              "      <td>278166</td>\n",
              "      <td>6355745</td>\n",
              "      <td>2019</td>\n",
              "      <td>Feb</td>\n",
              "      <td>2</td>\n",
              "      <td>12:50:00</td>\n",
              "      <td>465549</td>\n",
              "      <td>FAMILY ALBUM WHITE PICTURE FRAME</td>\n",
              "      <td>6</td>\n",
              "      <td>11.73</td>\n",
              "      <td>21.11</td>\n",
              "      <td>United Kingdom</td>\n",
              "      <td>['Senior', 'Solo Entrepreneur', '2-5 Year Clie...</td>\n",
              "      <td>70.38</td>\n",
              "      <td>126.66</td>\n",
              "      <td>56.28</td>\n",
              "      <td>0.8</td>\n",
              "      <td>2-Feb-2019</td>\n",
              "    </tr>\n",
              "    <tr>\n",
              "      <th>1</th>\n",
              "      <td>337701</td>\n",
              "      <td>6283376</td>\n",
              "      <td>2018</td>\n",
              "      <td>Dec</td>\n",
              "      <td>26</td>\n",
              "      <td>09:06:00</td>\n",
              "      <td>482370</td>\n",
              "      <td>LONDON BUS COFFEE MUG</td>\n",
              "      <td>3</td>\n",
              "      <td>3.52</td>\n",
              "      <td>3.87</td>\n",
              "      <td>United Kingdom</td>\n",
              "      <td>['Middle Age', 'Corporation', '2-5 Year Client']</td>\n",
              "      <td>10.56</td>\n",
              "      <td>11.61</td>\n",
              "      <td>1.05</td>\n",
              "      <td>0.1</td>\n",
              "      <td>26-Dec-2018</td>\n",
              "    </tr>\n",
              "    <tr>\n",
              "      <th>2</th>\n",
              "      <td>267099</td>\n",
              "      <td>6385599</td>\n",
              "      <td>2019</td>\n",
              "      <td>Feb</td>\n",
              "      <td>15</td>\n",
              "      <td>09:45:00</td>\n",
              "      <td>490728</td>\n",
              "      <td>SET 12 COLOUR PENCILS DOLLY GIRL</td>\n",
              "      <td>72</td>\n",
              "      <td>0.90</td>\n",
              "      <td>1.62</td>\n",
              "      <td>France</td>\n",
              "      <td>['Middle Age', 'Corporation', '2-5 Year Client']</td>\n",
              "      <td>64.80</td>\n",
              "      <td>116.64</td>\n",
              "      <td>51.84</td>\n",
              "      <td>0.8</td>\n",
              "      <td>15-Feb-2019</td>\n",
              "    </tr>\n",
              "  </tbody>\n",
              "</table>\n",
              "</div>\n",
              "      <button class=\"colab-df-convert\" onclick=\"convertToInteractive('df-0e206501-af19-4bb7-a675-6d272bd19e9a')\"\n",
              "              title=\"Convert this dataframe to an interactive table.\"\n",
              "              style=\"display:none;\">\n",
              "        \n",
              "  <svg xmlns=\"http://www.w3.org/2000/svg\" height=\"24px\"viewBox=\"0 0 24 24\"\n",
              "       width=\"24px\">\n",
              "    <path d=\"M0 0h24v24H0V0z\" fill=\"none\"/>\n",
              "    <path d=\"M18.56 5.44l.94 2.06.94-2.06 2.06-.94-2.06-.94-.94-2.06-.94 2.06-2.06.94zm-11 1L8.5 8.5l.94-2.06 2.06-.94-2.06-.94L8.5 2.5l-.94 2.06-2.06.94zm10 10l.94 2.06.94-2.06 2.06-.94-2.06-.94-.94-2.06-.94 2.06-2.06.94z\"/><path d=\"M17.41 7.96l-1.37-1.37c-.4-.4-.92-.59-1.43-.59-.52 0-1.04.2-1.43.59L10.3 9.45l-7.72 7.72c-.78.78-.78 2.05 0 2.83L4 21.41c.39.39.9.59 1.41.59.51 0 1.02-.2 1.41-.59l7.78-7.78 2.81-2.81c.8-.78.8-2.07 0-2.86zM5.41 20L4 18.59l7.72-7.72 1.47 1.35L5.41 20z\"/>\n",
              "  </svg>\n",
              "      </button>\n",
              "      \n",
              "  <style>\n",
              "    .colab-df-container {\n",
              "      display:flex;\n",
              "      flex-wrap:wrap;\n",
              "      gap: 12px;\n",
              "    }\n",
              "\n",
              "    .colab-df-convert {\n",
              "      background-color: #E8F0FE;\n",
              "      border: none;\n",
              "      border-radius: 50%;\n",
              "      cursor: pointer;\n",
              "      display: none;\n",
              "      fill: #1967D2;\n",
              "      height: 32px;\n",
              "      padding: 0 0 0 0;\n",
              "      width: 32px;\n",
              "    }\n",
              "\n",
              "    .colab-df-convert:hover {\n",
              "      background-color: #E2EBFA;\n",
              "      box-shadow: 0px 1px 2px rgba(60, 64, 67, 0.3), 0px 1px 3px 1px rgba(60, 64, 67, 0.15);\n",
              "      fill: #174EA6;\n",
              "    }\n",
              "\n",
              "    [theme=dark] .colab-df-convert {\n",
              "      background-color: #3B4455;\n",
              "      fill: #D2E3FC;\n",
              "    }\n",
              "\n",
              "    [theme=dark] .colab-df-convert:hover {\n",
              "      background-color: #434B5C;\n",
              "      box-shadow: 0px 1px 3px 1px rgba(0, 0, 0, 0.15);\n",
              "      filter: drop-shadow(0px 1px 2px rgba(0, 0, 0, 0.3));\n",
              "      fill: #FFFFFF;\n",
              "    }\n",
              "  </style>\n",
              "\n",
              "      <script>\n",
              "        const buttonEl =\n",
              "          document.querySelector('#df-0e206501-af19-4bb7-a675-6d272bd19e9a button.colab-df-convert');\n",
              "        buttonEl.style.display =\n",
              "          google.colab.kernel.accessAllowed ? 'block' : 'none';\n",
              "\n",
              "        async function convertToInteractive(key) {\n",
              "          const element = document.querySelector('#df-0e206501-af19-4bb7-a675-6d272bd19e9a');\n",
              "          const dataTable =\n",
              "            await google.colab.kernel.invokeFunction('convertToInteractive',\n",
              "                                                     [key], {});\n",
              "          if (!dataTable) return;\n",
              "\n",
              "          const docLinkHtml = 'Like what you see? Visit the ' +\n",
              "            '<a target=\"_blank\" href=https://colab.research.google.com/notebooks/data_table.ipynb>data table notebook</a>'\n",
              "            + ' to learn more about interactive tables.';\n",
              "          element.innerHTML = '';\n",
              "          dataTable['output_type'] = 'display_data';\n",
              "          await google.colab.output.renderOutput(dataTable, element);\n",
              "          const docLink = document.createElement('div');\n",
              "          docLink.innerHTML = docLinkHtml;\n",
              "          element.appendChild(docLink);\n",
              "        }\n",
              "      </script>\n",
              "    </div>\n",
              "  </div>\n",
              "  "
            ]
          },
          "metadata": {},
          "execution_count": 119
        }
      ]
    },
    {
      "cell_type": "code",
      "source": [
        "data.iloc[:,3]#views specific row"
      ],
      "metadata": {
        "colab": {
          "base_uri": "https://localhost:8080/"
        },
        "id": "hDR7bGkUENDK",
        "outputId": "d310ea9b-6eb9-421e-f964-360a9c2c4b22"
      },
      "execution_count": null,
      "outputs": [
        {
          "output_type": "execute_result",
          "data": {
            "text/plain": [
              "0       Feb\n",
              "1       Dec\n",
              "2       Feb\n",
              "3       Jun\n",
              "4       Sep\n",
              "       ... \n",
              "7152    Sep\n",
              "7153    Mar\n",
              "7154    Jun\n",
              "7155    Feb\n",
              "7156    Feb\n",
              "Name: Month, Length: 7157, dtype: object"
            ]
          },
          "metadata": {},
          "execution_count": 120
        }
      ]
    },
    {
      "cell_type": "code",
      "source": [
        "split_col = data['ClientKeywords'].str.split(',',expand=True)\n",
        "split_col"
      ],
      "metadata": {
        "colab": {
          "base_uri": "https://localhost:8080/",
          "height": 424
        },
        "id": "Fi7i1e9ZEbLa",
        "outputId": "33186a8d-a5db-4a5b-e67e-ffd3630d7bc5"
      },
      "execution_count": null,
      "outputs": [
        {
          "output_type": "execute_result",
          "data": {
            "text/plain": [
              "                   0                     1                    2\n",
              "0          ['Senior'   'Solo Entrepreneur'   '2-5 Year Client']\n",
              "1      ['Middle Age'         'Corporation'   '2-5 Year Client']\n",
              "2      ['Middle Age'         'Corporation'   '2-5 Year Client']\n",
              "3      ['Middle Age'      'Small Business'        'New Client']\n",
              "4      ['Middle Age'   'Solo Entrepreneur'   '2-5 Year Client']\n",
              "...              ...                   ...                  ...\n",
              "7152   ['Middle Age'   'Solo Entrepreneur'   '2-5 Year Client']\n",
              "7153  ['Young Adult'         'Corporation'   '2-5 Year Client']\n",
              "7154        ['Adult'         'Corporation'   '2-5 Year Client']\n",
              "7155   ['Middle Age'      'Small Business'        'New Client']\n",
              "7156   ['Middle Age'         'Corporation'                  '2-\n",
              "\n",
              "[7157 rows x 3 columns]"
            ],
            "text/html": [
              "\n",
              "  <div id=\"df-a2f547e0-a9cc-4b1f-8867-5f46ee0a436e\">\n",
              "    <div class=\"colab-df-container\">\n",
              "      <div>\n",
              "<style scoped>\n",
              "    .dataframe tbody tr th:only-of-type {\n",
              "        vertical-align: middle;\n",
              "    }\n",
              "\n",
              "    .dataframe tbody tr th {\n",
              "        vertical-align: top;\n",
              "    }\n",
              "\n",
              "    .dataframe thead th {\n",
              "        text-align: right;\n",
              "    }\n",
              "</style>\n",
              "<table border=\"1\" class=\"dataframe\">\n",
              "  <thead>\n",
              "    <tr style=\"text-align: right;\">\n",
              "      <th></th>\n",
              "      <th>0</th>\n",
              "      <th>1</th>\n",
              "      <th>2</th>\n",
              "    </tr>\n",
              "  </thead>\n",
              "  <tbody>\n",
              "    <tr>\n",
              "      <th>0</th>\n",
              "      <td>['Senior'</td>\n",
              "      <td>'Solo Entrepreneur'</td>\n",
              "      <td>'2-5 Year Client']</td>\n",
              "    </tr>\n",
              "    <tr>\n",
              "      <th>1</th>\n",
              "      <td>['Middle Age'</td>\n",
              "      <td>'Corporation'</td>\n",
              "      <td>'2-5 Year Client']</td>\n",
              "    </tr>\n",
              "    <tr>\n",
              "      <th>2</th>\n",
              "      <td>['Middle Age'</td>\n",
              "      <td>'Corporation'</td>\n",
              "      <td>'2-5 Year Client']</td>\n",
              "    </tr>\n",
              "    <tr>\n",
              "      <th>3</th>\n",
              "      <td>['Middle Age'</td>\n",
              "      <td>'Small Business'</td>\n",
              "      <td>'New Client']</td>\n",
              "    </tr>\n",
              "    <tr>\n",
              "      <th>4</th>\n",
              "      <td>['Middle Age'</td>\n",
              "      <td>'Solo Entrepreneur'</td>\n",
              "      <td>'2-5 Year Client']</td>\n",
              "    </tr>\n",
              "    <tr>\n",
              "      <th>...</th>\n",
              "      <td>...</td>\n",
              "      <td>...</td>\n",
              "      <td>...</td>\n",
              "    </tr>\n",
              "    <tr>\n",
              "      <th>7152</th>\n",
              "      <td>['Middle Age'</td>\n",
              "      <td>'Solo Entrepreneur'</td>\n",
              "      <td>'2-5 Year Client']</td>\n",
              "    </tr>\n",
              "    <tr>\n",
              "      <th>7153</th>\n",
              "      <td>['Young Adult'</td>\n",
              "      <td>'Corporation'</td>\n",
              "      <td>'2-5 Year Client']</td>\n",
              "    </tr>\n",
              "    <tr>\n",
              "      <th>7154</th>\n",
              "      <td>['Adult'</td>\n",
              "      <td>'Corporation'</td>\n",
              "      <td>'2-5 Year Client']</td>\n",
              "    </tr>\n",
              "    <tr>\n",
              "      <th>7155</th>\n",
              "      <td>['Middle Age'</td>\n",
              "      <td>'Small Business'</td>\n",
              "      <td>'New Client']</td>\n",
              "    </tr>\n",
              "    <tr>\n",
              "      <th>7156</th>\n",
              "      <td>['Middle Age'</td>\n",
              "      <td>'Corporation'</td>\n",
              "      <td>'2-</td>\n",
              "    </tr>\n",
              "  </tbody>\n",
              "</table>\n",
              "<p>7157 rows × 3 columns</p>\n",
              "</div>\n",
              "      <button class=\"colab-df-convert\" onclick=\"convertToInteractive('df-a2f547e0-a9cc-4b1f-8867-5f46ee0a436e')\"\n",
              "              title=\"Convert this dataframe to an interactive table.\"\n",
              "              style=\"display:none;\">\n",
              "        \n",
              "  <svg xmlns=\"http://www.w3.org/2000/svg\" height=\"24px\"viewBox=\"0 0 24 24\"\n",
              "       width=\"24px\">\n",
              "    <path d=\"M0 0h24v24H0V0z\" fill=\"none\"/>\n",
              "    <path d=\"M18.56 5.44l.94 2.06.94-2.06 2.06-.94-2.06-.94-.94-2.06-.94 2.06-2.06.94zm-11 1L8.5 8.5l.94-2.06 2.06-.94-2.06-.94L8.5 2.5l-.94 2.06-2.06.94zm10 10l.94 2.06.94-2.06 2.06-.94-2.06-.94-.94-2.06-.94 2.06-2.06.94z\"/><path d=\"M17.41 7.96l-1.37-1.37c-.4-.4-.92-.59-1.43-.59-.52 0-1.04.2-1.43.59L10.3 9.45l-7.72 7.72c-.78.78-.78 2.05 0 2.83L4 21.41c.39.39.9.59 1.41.59.51 0 1.02-.2 1.41-.59l7.78-7.78 2.81-2.81c.8-.78.8-2.07 0-2.86zM5.41 20L4 18.59l7.72-7.72 1.47 1.35L5.41 20z\"/>\n",
              "  </svg>\n",
              "      </button>\n",
              "      \n",
              "  <style>\n",
              "    .colab-df-container {\n",
              "      display:flex;\n",
              "      flex-wrap:wrap;\n",
              "      gap: 12px;\n",
              "    }\n",
              "\n",
              "    .colab-df-convert {\n",
              "      background-color: #E8F0FE;\n",
              "      border: none;\n",
              "      border-radius: 50%;\n",
              "      cursor: pointer;\n",
              "      display: none;\n",
              "      fill: #1967D2;\n",
              "      height: 32px;\n",
              "      padding: 0 0 0 0;\n",
              "      width: 32px;\n",
              "    }\n",
              "\n",
              "    .colab-df-convert:hover {\n",
              "      background-color: #E2EBFA;\n",
              "      box-shadow: 0px 1px 2px rgba(60, 64, 67, 0.3), 0px 1px 3px 1px rgba(60, 64, 67, 0.15);\n",
              "      fill: #174EA6;\n",
              "    }\n",
              "\n",
              "    [theme=dark] .colab-df-convert {\n",
              "      background-color: #3B4455;\n",
              "      fill: #D2E3FC;\n",
              "    }\n",
              "\n",
              "    [theme=dark] .colab-df-convert:hover {\n",
              "      background-color: #434B5C;\n",
              "      box-shadow: 0px 1px 3px 1px rgba(0, 0, 0, 0.15);\n",
              "      filter: drop-shadow(0px 1px 2px rgba(0, 0, 0, 0.3));\n",
              "      fill: #FFFFFF;\n",
              "    }\n",
              "  </style>\n",
              "\n",
              "      <script>\n",
              "        const buttonEl =\n",
              "          document.querySelector('#df-a2f547e0-a9cc-4b1f-8867-5f46ee0a436e button.colab-df-convert');\n",
              "        buttonEl.style.display =\n",
              "          google.colab.kernel.accessAllowed ? 'block' : 'none';\n",
              "\n",
              "        async function convertToInteractive(key) {\n",
              "          const element = document.querySelector('#df-a2f547e0-a9cc-4b1f-8867-5f46ee0a436e');\n",
              "          const dataTable =\n",
              "            await google.colab.kernel.invokeFunction('convertToInteractive',\n",
              "                                                     [key], {});\n",
              "          if (!dataTable) return;\n",
              "\n",
              "          const docLinkHtml = 'Like what you see? Visit the ' +\n",
              "            '<a target=\"_blank\" href=https://colab.research.google.com/notebooks/data_table.ipynb>data table notebook</a>'\n",
              "            + ' to learn more about interactive tables.';\n",
              "          element.innerHTML = '';\n",
              "          dataTable['output_type'] = 'display_data';\n",
              "          await google.colab.output.renderOutput(dataTable, element);\n",
              "          const docLink = document.createElement('div');\n",
              "          docLink.innerHTML = docLinkHtml;\n",
              "          element.appendChild(docLink);\n",
              "        }\n",
              "      </script>\n",
              "    </div>\n",
              "  </div>\n",
              "  "
            ]
          },
          "metadata": {},
          "execution_count": 121
        }
      ]
    },
    {
      "cell_type": "code",
      "source": [
        "data['ClientAge']=split_col[0]\n",
        "data['ClientType']=split_col[1]\n",
        "data['LengthofContract']=split_col[2]"
      ],
      "metadata": {
        "id": "hFWjH4tgF140"
      },
      "execution_count": null,
      "outputs": []
    },
    {
      "cell_type": "code",
      "source": [
        "data['ClientAge']\n"
      ],
      "metadata": {
        "colab": {
          "base_uri": "https://localhost:8080/"
        },
        "id": "aovNe5qaGUG1",
        "outputId": "12de8e35-8d57-4551-9d68-5df6abc92b19"
      },
      "execution_count": null,
      "outputs": [
        {
          "output_type": "execute_result",
          "data": {
            "text/plain": [
              "0            ['Senior'\n",
              "1        ['Middle Age'\n",
              "2        ['Middle Age'\n",
              "3        ['Middle Age'\n",
              "4        ['Middle Age'\n",
              "             ...      \n",
              "7152     ['Middle Age'\n",
              "7153    ['Young Adult'\n",
              "7154          ['Adult'\n",
              "7155     ['Middle Age'\n",
              "7156     ['Middle Age'\n",
              "Name: ClientAge, Length: 7157, dtype: object"
            ]
          },
          "metadata": {},
          "execution_count": 123
        }
      ]
    },
    {
      "cell_type": "code",
      "source": [
        "#use replace function\n",
        "\n",
        "data['ClientAge'] = data['ClientAge'].str.replace('[','')\n",
        "data['ClientAge']"
      ],
      "metadata": {
        "colab": {
          "base_uri": "https://localhost:8080/"
        },
        "id": "vjuYntsVHAGG",
        "outputId": "1a2e7b5c-e868-41d6-84ac-6719a46d9223"
      },
      "execution_count": null,
      "outputs": [
        {
          "output_type": "stream",
          "name": "stderr",
          "text": [
            "/usr/local/lib/python3.7/dist-packages/ipykernel_launcher.py:3: FutureWarning: The default value of regex will change from True to False in a future version. In addition, single character regular expressions will *not* be treated as literal strings when regex=True.\n",
            "  This is separate from the ipykernel package so we can avoid doing imports until\n"
          ]
        },
        {
          "output_type": "execute_result",
          "data": {
            "text/plain": [
              "0            'Senior'\n",
              "1        'Middle Age'\n",
              "2        'Middle Age'\n",
              "3        'Middle Age'\n",
              "4        'Middle Age'\n",
              "            ...      \n",
              "7152     'Middle Age'\n",
              "7153    'Young Adult'\n",
              "7154          'Adult'\n",
              "7155     'Middle Age'\n",
              "7156     'Middle Age'\n",
              "Name: ClientAge, Length: 7157, dtype: object"
            ]
          },
          "metadata": {},
          "execution_count": 124
        }
      ]
    },
    {
      "cell_type": "code",
      "source": [
        "data['LengthofContract'] = data['LengthofContract'].str.replace(']','')\n",
        "data['LengthofContract']"
      ],
      "metadata": {
        "colab": {
          "base_uri": "https://localhost:8080/"
        },
        "id": "MT5_gu6lHRqq",
        "outputId": "845bf6e3-f094-4271-8fc1-2857183e5278"
      },
      "execution_count": null,
      "outputs": [
        {
          "output_type": "stream",
          "name": "stderr",
          "text": [
            "/usr/local/lib/python3.7/dist-packages/ipykernel_launcher.py:1: FutureWarning: The default value of regex will change from True to False in a future version. In addition, single character regular expressions will *not* be treated as literal strings when regex=True.\n",
            "  \"\"\"Entry point for launching an IPython kernel.\n"
          ]
        },
        {
          "output_type": "execute_result",
          "data": {
            "text/plain": [
              "0        '2-5 Year Client'\n",
              "1        '2-5 Year Client'\n",
              "2        '2-5 Year Client'\n",
              "3             'New Client'\n",
              "4        '2-5 Year Client'\n",
              "               ...        \n",
              "7152     '2-5 Year Client'\n",
              "7153     '2-5 Year Client'\n",
              "7154     '2-5 Year Client'\n",
              "7155          'New Client'\n",
              "7156                   '2-\n",
              "Name: LengthofContract, Length: 7157, dtype: object"
            ]
          },
          "metadata": {},
          "execution_count": 125
        }
      ]
    },
    {
      "cell_type": "code",
      "source": [
        "data['ItemDescription'] =data['ItemDescription'].str.lower() "
      ],
      "metadata": {
        "id": "J38A_RsfHkGN"
      },
      "execution_count": null,
      "outputs": []
    },
    {
      "cell_type": "code",
      "source": [
        "data.info()"
      ],
      "metadata": {
        "colab": {
          "base_uri": "https://localhost:8080/"
        },
        "id": "1IgCdbx5JX3t",
        "outputId": "551a3339-8cc4-4b81-e3e8-d3b054dd83cb"
      },
      "execution_count": null,
      "outputs": [
        {
          "output_type": "stream",
          "name": "stdout",
          "text": [
            "<class 'pandas.core.frame.DataFrame'>\n",
            "RangeIndex: 7157 entries, 0 to 7156\n",
            "Data columns (total 21 columns):\n",
            " #   Column                  Non-Null Count  Dtype  \n",
            "---  ------                  --------------  -----  \n",
            " 0   UserId                  7157 non-null   int64  \n",
            " 1   TransactionId           7157 non-null   int64  \n",
            " 2   Year                    7157 non-null   int64  \n",
            " 3   Month                   7157 non-null   object \n",
            " 4   Day                     7157 non-null   int64  \n",
            " 5   Time                    7157 non-null   object \n",
            " 6   ItemCode                7157 non-null   int64  \n",
            " 7   ItemDescription         7142 non-null   object \n",
            " 8   NumberOfItemsPurchased  7157 non-null   int64  \n",
            " 9   CostPerItem             7157 non-null   float64\n",
            " 10  SellingPricePerItem     7157 non-null   float64\n",
            " 11  Country                 7157 non-null   object \n",
            " 12  ClientKeywords          7157 non-null   object \n",
            " 13  CostPerTransaction      7157 non-null   float64\n",
            " 14  SalesPertransaction     7157 non-null   float64\n",
            " 15  ProfitPerTransaction    7157 non-null   float64\n",
            " 16  Markup                  7123 non-null   float64\n",
            " 17  Date                    7157 non-null   object \n",
            " 18  ClientAge               7157 non-null   object \n",
            " 19  ClientType              7157 non-null   object \n",
            " 20  LengthofContract        7157 non-null   object \n",
            "dtypes: float64(6), int64(6), object(9)\n",
            "memory usage: 1.1+ MB\n"
          ]
        }
      ]
    },
    {
      "cell_type": "code",
      "source": [
        "data['Month']"
      ],
      "metadata": {
        "colab": {
          "base_uri": "https://localhost:8080/"
        },
        "id": "sLX6p1nOJZjK",
        "outputId": "251960c7-8cef-4a3a-b224-b444d99bd9f2"
      },
      "execution_count": null,
      "outputs": [
        {
          "output_type": "execute_result",
          "data": {
            "text/plain": [
              "0       Feb\n",
              "1       Dec\n",
              "2       Feb\n",
              "3       Jun\n",
              "4       Sep\n",
              "       ... \n",
              "7152    Sep\n",
              "7153    Mar\n",
              "7154    Jun\n",
              "7155    Feb\n",
              "7156    Feb\n",
              "Name: Month, Length: 7157, dtype: object"
            ]
          },
          "metadata": {},
          "execution_count": 128
        }
      ]
    },
    {
      "cell_type": "code",
      "source": [
        "seasons = pd.read_csv('/content/Data/value_inc_seasons.csv',sep = ';')\n",
        "seasons.info()"
      ],
      "metadata": {
        "colab": {
          "base_uri": "https://localhost:8080/"
        },
        "id": "nCETMPsTJw8O",
        "outputId": "ac9ed985-f9e8-488a-9b9e-8b6abe2867cd"
      },
      "execution_count": null,
      "outputs": [
        {
          "output_type": "stream",
          "name": "stdout",
          "text": [
            "<class 'pandas.core.frame.DataFrame'>\n",
            "RangeIndex: 12 entries, 0 to 11\n",
            "Data columns (total 2 columns):\n",
            " #   Column  Non-Null Count  Dtype \n",
            "---  ------  --------------  ----- \n",
            " 0   Month   12 non-null     object\n",
            " 1   Season  12 non-null     object\n",
            "dtypes: object(2)\n",
            "memory usage: 320.0+ bytes\n"
          ]
        }
      ]
    },
    {
      "cell_type": "code",
      "source": [
        "data = pd.merge(data,seasons,on = 'Month')\n",
        "data"
      ],
      "metadata": {
        "colab": {
          "base_uri": "https://localhost:8080/",
          "height": 852
        },
        "id": "eyJS3Ms3KBZ7",
        "outputId": "adb1128c-5899-4bc9-aee6-3c1d7da57ac0"
      },
      "execution_count": null,
      "outputs": [
        {
          "output_type": "execute_result",
          "data": {
            "text/plain": [
              "      UserId  TransactionId  Year Month  Day      Time  ItemCode  \\\n",
              "0     278166        6355745  2019   Feb    2  12:50:00    465549   \n",
              "1     267099        6385599  2019   Feb   15  09:45:00    490728   \n",
              "2     328440        6387425  2019   Feb   16  10:35:00    494802   \n",
              "3     364791        6358242  2019   Feb    3  09:25:00    486276   \n",
              "4         -1        6388019  2019   Feb   16  13:24:00    490329   \n",
              "...      ...            ...   ...   ...  ...       ...       ...   \n",
              "7152  304605        6014514  2018   May   28  11:45:00    484092   \n",
              "7153  266994        5987905  2018   May    2  06:53:00    462609   \n",
              "7154  331149        6014679  2018   May   29  06:17:00    434931   \n",
              "7155  371133        6016461  2018   May   30  07:30:00    460278   \n",
              "7156  289107        5999884  2018   May   14  12:24:00    477309   \n",
              "\n",
              "                          ItemDescription  NumberOfItemsPurchased  \\\n",
              "0        family album white picture frame                       6   \n",
              "1       set 12 colour pencils dolly girl                       72   \n",
              "2     set of 6 ribbons perfectly pretty                        36   \n",
              "3           set of 5 mini grocery magnets                       3   \n",
              "4             roll wrap vintage christmas                      30   \n",
              "...                                   ...                     ...   \n",
              "7152      recycled acapulco mat turquoise                       3   \n",
              "7153               spaceboy birthday card                      36   \n",
              "7154                      jumbo bag toys                     1800   \n",
              "7155     set 12 kids colour  chalk sticks                      27   \n",
              "7156          alarm clock bakelike orange                      -3   \n",
              "\n",
              "      CostPerItem  ...                                     ClientKeywords  \\\n",
              "0           11.73  ...  ['Senior', 'Solo Entrepreneur', '2-5 Year Clie...   \n",
              "1            0.90  ...   ['Middle Age', 'Corporation', '2-5 Year Client']   \n",
              "2            3.99  ...          ['Adult', 'Small Business', 'New Client']   \n",
              "3            2.88  ...  ['Young Adult', 'Small Business', 'Loyal Client']   \n",
              "4            3.40  ...  ['Middle Age', 'Solo Entrepreneur', '2-5 Year ...   \n",
              "...           ...  ...                                                ...   \n",
              "7152        11.39  ...  ['Young Adult', 'Small Business', 'Loyal Client']   \n",
              "7153         0.58  ...  ['Young Adult', 'Small Business', 'Loyal Client']   \n",
              "7154         2.28  ...   ['Middle Age', 'Small Business', 'Loyal Client']   \n",
              "7155         0.58  ...  ['Young Adult', 'Solo Entrepreneur', 'New Clie...   \n",
              "7156         5.18  ...          ['Adult', 'Small Business', 'New Client']   \n",
              "\n",
              "     CostPerTransaction SalesPertransaction  ProfitPerTransaction  Markup  \\\n",
              "0                 70.38              126.66                 56.28     0.8   \n",
              "1                 64.80              116.64                 51.84     0.8   \n",
              "2                143.64              201.24                 57.60     0.4   \n",
              "3                  8.64               11.22                  2.58     0.3   \n",
              "4                102.00              132.60                 30.60     0.3   \n",
              "...                 ...                 ...                   ...     ...   \n",
              "7152              34.17               44.43                 10.26     0.3   \n",
              "7153              20.88               29.16                  8.28     0.4   \n",
              "7154            4104.00             5328.00               1224.00     0.3   \n",
              "7155              15.66               21.87                  6.21     0.4   \n",
              "7156             -15.54              -20.19                 -4.65     0.3   \n",
              "\n",
              "             Date      ClientAge            ClientType    LengthofContract  \\\n",
              "0      2-Feb-2019       'Senior'   'Solo Entrepreneur'   '2-5 Year Client'   \n",
              "1     15-Feb-2019   'Middle Age'         'Corporation'   '2-5 Year Client'   \n",
              "2     16-Feb-2019        'Adult'      'Small Business'        'New Client'   \n",
              "3      3-Feb-2019  'Young Adult'      'Small Business'      'Loyal Client'   \n",
              "4     16-Feb-2019   'Middle Age'   'Solo Entrepreneur'   '2-5 Year Client'   \n",
              "...           ...            ...                   ...                 ...   \n",
              "7152  28-May-2018  'Young Adult'      'Small Business'      'Loyal Client'   \n",
              "7153   2-May-2018  'Young Adult'      'Small Business'      'Loyal Client'   \n",
              "7154  29-May-2018   'Middle Age'      'Small Business'      'Loyal Client'   \n",
              "7155  30-May-2018  'Young Adult'   'Solo Entrepreneur'        'New Client'   \n",
              "7156  14-May-2018        'Adult'      'Small Business'        'New Client'   \n",
              "\n",
              "     Season  \n",
              "0       Mid  \n",
              "1       Mid  \n",
              "2       Mid  \n",
              "3       Mid  \n",
              "4       Mid  \n",
              "...     ...  \n",
              "7152    Low  \n",
              "7153    Low  \n",
              "7154    Low  \n",
              "7155    Low  \n",
              "7156    Low  \n",
              "\n",
              "[7157 rows x 22 columns]"
            ],
            "text/html": [
              "\n",
              "  <div id=\"df-3bc2eff4-28fa-4e47-9df2-198e38aae9c7\">\n",
              "    <div class=\"colab-df-container\">\n",
              "      <div>\n",
              "<style scoped>\n",
              "    .dataframe tbody tr th:only-of-type {\n",
              "        vertical-align: middle;\n",
              "    }\n",
              "\n",
              "    .dataframe tbody tr th {\n",
              "        vertical-align: top;\n",
              "    }\n",
              "\n",
              "    .dataframe thead th {\n",
              "        text-align: right;\n",
              "    }\n",
              "</style>\n",
              "<table border=\"1\" class=\"dataframe\">\n",
              "  <thead>\n",
              "    <tr style=\"text-align: right;\">\n",
              "      <th></th>\n",
              "      <th>UserId</th>\n",
              "      <th>TransactionId</th>\n",
              "      <th>Year</th>\n",
              "      <th>Month</th>\n",
              "      <th>Day</th>\n",
              "      <th>Time</th>\n",
              "      <th>ItemCode</th>\n",
              "      <th>ItemDescription</th>\n",
              "      <th>NumberOfItemsPurchased</th>\n",
              "      <th>CostPerItem</th>\n",
              "      <th>...</th>\n",
              "      <th>ClientKeywords</th>\n",
              "      <th>CostPerTransaction</th>\n",
              "      <th>SalesPertransaction</th>\n",
              "      <th>ProfitPerTransaction</th>\n",
              "      <th>Markup</th>\n",
              "      <th>Date</th>\n",
              "      <th>ClientAge</th>\n",
              "      <th>ClientType</th>\n",
              "      <th>LengthofContract</th>\n",
              "      <th>Season</th>\n",
              "    </tr>\n",
              "  </thead>\n",
              "  <tbody>\n",
              "    <tr>\n",
              "      <th>0</th>\n",
              "      <td>278166</td>\n",
              "      <td>6355745</td>\n",
              "      <td>2019</td>\n",
              "      <td>Feb</td>\n",
              "      <td>2</td>\n",
              "      <td>12:50:00</td>\n",
              "      <td>465549</td>\n",
              "      <td>family album white picture frame</td>\n",
              "      <td>6</td>\n",
              "      <td>11.73</td>\n",
              "      <td>...</td>\n",
              "      <td>['Senior', 'Solo Entrepreneur', '2-5 Year Clie...</td>\n",
              "      <td>70.38</td>\n",
              "      <td>126.66</td>\n",
              "      <td>56.28</td>\n",
              "      <td>0.8</td>\n",
              "      <td>2-Feb-2019</td>\n",
              "      <td>'Senior'</td>\n",
              "      <td>'Solo Entrepreneur'</td>\n",
              "      <td>'2-5 Year Client'</td>\n",
              "      <td>Mid</td>\n",
              "    </tr>\n",
              "    <tr>\n",
              "      <th>1</th>\n",
              "      <td>267099</td>\n",
              "      <td>6385599</td>\n",
              "      <td>2019</td>\n",
              "      <td>Feb</td>\n",
              "      <td>15</td>\n",
              "      <td>09:45:00</td>\n",
              "      <td>490728</td>\n",
              "      <td>set 12 colour pencils dolly girl</td>\n",
              "      <td>72</td>\n",
              "      <td>0.90</td>\n",
              "      <td>...</td>\n",
              "      <td>['Middle Age', 'Corporation', '2-5 Year Client']</td>\n",
              "      <td>64.80</td>\n",
              "      <td>116.64</td>\n",
              "      <td>51.84</td>\n",
              "      <td>0.8</td>\n",
              "      <td>15-Feb-2019</td>\n",
              "      <td>'Middle Age'</td>\n",
              "      <td>'Corporation'</td>\n",
              "      <td>'2-5 Year Client'</td>\n",
              "      <td>Mid</td>\n",
              "    </tr>\n",
              "    <tr>\n",
              "      <th>2</th>\n",
              "      <td>328440</td>\n",
              "      <td>6387425</td>\n",
              "      <td>2019</td>\n",
              "      <td>Feb</td>\n",
              "      <td>16</td>\n",
              "      <td>10:35:00</td>\n",
              "      <td>494802</td>\n",
              "      <td>set of 6 ribbons perfectly pretty</td>\n",
              "      <td>36</td>\n",
              "      <td>3.99</td>\n",
              "      <td>...</td>\n",
              "      <td>['Adult', 'Small Business', 'New Client']</td>\n",
              "      <td>143.64</td>\n",
              "      <td>201.24</td>\n",
              "      <td>57.60</td>\n",
              "      <td>0.4</td>\n",
              "      <td>16-Feb-2019</td>\n",
              "      <td>'Adult'</td>\n",
              "      <td>'Small Business'</td>\n",
              "      <td>'New Client'</td>\n",
              "      <td>Mid</td>\n",
              "    </tr>\n",
              "    <tr>\n",
              "      <th>3</th>\n",
              "      <td>364791</td>\n",
              "      <td>6358242</td>\n",
              "      <td>2019</td>\n",
              "      <td>Feb</td>\n",
              "      <td>3</td>\n",
              "      <td>09:25:00</td>\n",
              "      <td>486276</td>\n",
              "      <td>set of 5 mini grocery magnets</td>\n",
              "      <td>3</td>\n",
              "      <td>2.88</td>\n",
              "      <td>...</td>\n",
              "      <td>['Young Adult', 'Small Business', 'Loyal Client']</td>\n",
              "      <td>8.64</td>\n",
              "      <td>11.22</td>\n",
              "      <td>2.58</td>\n",
              "      <td>0.3</td>\n",
              "      <td>3-Feb-2019</td>\n",
              "      <td>'Young Adult'</td>\n",
              "      <td>'Small Business'</td>\n",
              "      <td>'Loyal Client'</td>\n",
              "      <td>Mid</td>\n",
              "    </tr>\n",
              "    <tr>\n",
              "      <th>4</th>\n",
              "      <td>-1</td>\n",
              "      <td>6388019</td>\n",
              "      <td>2019</td>\n",
              "      <td>Feb</td>\n",
              "      <td>16</td>\n",
              "      <td>13:24:00</td>\n",
              "      <td>490329</td>\n",
              "      <td>roll wrap vintage christmas</td>\n",
              "      <td>30</td>\n",
              "      <td>3.40</td>\n",
              "      <td>...</td>\n",
              "      <td>['Middle Age', 'Solo Entrepreneur', '2-5 Year ...</td>\n",
              "      <td>102.00</td>\n",
              "      <td>132.60</td>\n",
              "      <td>30.60</td>\n",
              "      <td>0.3</td>\n",
              "      <td>16-Feb-2019</td>\n",
              "      <td>'Middle Age'</td>\n",
              "      <td>'Solo Entrepreneur'</td>\n",
              "      <td>'2-5 Year Client'</td>\n",
              "      <td>Mid</td>\n",
              "    </tr>\n",
              "    <tr>\n",
              "      <th>...</th>\n",
              "      <td>...</td>\n",
              "      <td>...</td>\n",
              "      <td>...</td>\n",
              "      <td>...</td>\n",
              "      <td>...</td>\n",
              "      <td>...</td>\n",
              "      <td>...</td>\n",
              "      <td>...</td>\n",
              "      <td>...</td>\n",
              "      <td>...</td>\n",
              "      <td>...</td>\n",
              "      <td>...</td>\n",
              "      <td>...</td>\n",
              "      <td>...</td>\n",
              "      <td>...</td>\n",
              "      <td>...</td>\n",
              "      <td>...</td>\n",
              "      <td>...</td>\n",
              "      <td>...</td>\n",
              "      <td>...</td>\n",
              "      <td>...</td>\n",
              "    </tr>\n",
              "    <tr>\n",
              "      <th>7152</th>\n",
              "      <td>304605</td>\n",
              "      <td>6014514</td>\n",
              "      <td>2018</td>\n",
              "      <td>May</td>\n",
              "      <td>28</td>\n",
              "      <td>11:45:00</td>\n",
              "      <td>484092</td>\n",
              "      <td>recycled acapulco mat turquoise</td>\n",
              "      <td>3</td>\n",
              "      <td>11.39</td>\n",
              "      <td>...</td>\n",
              "      <td>['Young Adult', 'Small Business', 'Loyal Client']</td>\n",
              "      <td>34.17</td>\n",
              "      <td>44.43</td>\n",
              "      <td>10.26</td>\n",
              "      <td>0.3</td>\n",
              "      <td>28-May-2018</td>\n",
              "      <td>'Young Adult'</td>\n",
              "      <td>'Small Business'</td>\n",
              "      <td>'Loyal Client'</td>\n",
              "      <td>Low</td>\n",
              "    </tr>\n",
              "    <tr>\n",
              "      <th>7153</th>\n",
              "      <td>266994</td>\n",
              "      <td>5987905</td>\n",
              "      <td>2018</td>\n",
              "      <td>May</td>\n",
              "      <td>2</td>\n",
              "      <td>06:53:00</td>\n",
              "      <td>462609</td>\n",
              "      <td>spaceboy birthday card</td>\n",
              "      <td>36</td>\n",
              "      <td>0.58</td>\n",
              "      <td>...</td>\n",
              "      <td>['Young Adult', 'Small Business', 'Loyal Client']</td>\n",
              "      <td>20.88</td>\n",
              "      <td>29.16</td>\n",
              "      <td>8.28</td>\n",
              "      <td>0.4</td>\n",
              "      <td>2-May-2018</td>\n",
              "      <td>'Young Adult'</td>\n",
              "      <td>'Small Business'</td>\n",
              "      <td>'Loyal Client'</td>\n",
              "      <td>Low</td>\n",
              "    </tr>\n",
              "    <tr>\n",
              "      <th>7154</th>\n",
              "      <td>331149</td>\n",
              "      <td>6014679</td>\n",
              "      <td>2018</td>\n",
              "      <td>May</td>\n",
              "      <td>29</td>\n",
              "      <td>06:17:00</td>\n",
              "      <td>434931</td>\n",
              "      <td>jumbo bag toys</td>\n",
              "      <td>1800</td>\n",
              "      <td>2.28</td>\n",
              "      <td>...</td>\n",
              "      <td>['Middle Age', 'Small Business', 'Loyal Client']</td>\n",
              "      <td>4104.00</td>\n",
              "      <td>5328.00</td>\n",
              "      <td>1224.00</td>\n",
              "      <td>0.3</td>\n",
              "      <td>29-May-2018</td>\n",
              "      <td>'Middle Age'</td>\n",
              "      <td>'Small Business'</td>\n",
              "      <td>'Loyal Client'</td>\n",
              "      <td>Low</td>\n",
              "    </tr>\n",
              "    <tr>\n",
              "      <th>7155</th>\n",
              "      <td>371133</td>\n",
              "      <td>6016461</td>\n",
              "      <td>2018</td>\n",
              "      <td>May</td>\n",
              "      <td>30</td>\n",
              "      <td>07:30:00</td>\n",
              "      <td>460278</td>\n",
              "      <td>set 12 kids colour  chalk sticks</td>\n",
              "      <td>27</td>\n",
              "      <td>0.58</td>\n",
              "      <td>...</td>\n",
              "      <td>['Young Adult', 'Solo Entrepreneur', 'New Clie...</td>\n",
              "      <td>15.66</td>\n",
              "      <td>21.87</td>\n",
              "      <td>6.21</td>\n",
              "      <td>0.4</td>\n",
              "      <td>30-May-2018</td>\n",
              "      <td>'Young Adult'</td>\n",
              "      <td>'Solo Entrepreneur'</td>\n",
              "      <td>'New Client'</td>\n",
              "      <td>Low</td>\n",
              "    </tr>\n",
              "    <tr>\n",
              "      <th>7156</th>\n",
              "      <td>289107</td>\n",
              "      <td>5999884</td>\n",
              "      <td>2018</td>\n",
              "      <td>May</td>\n",
              "      <td>14</td>\n",
              "      <td>12:24:00</td>\n",
              "      <td>477309</td>\n",
              "      <td>alarm clock bakelike orange</td>\n",
              "      <td>-3</td>\n",
              "      <td>5.18</td>\n",
              "      <td>...</td>\n",
              "      <td>['Adult', 'Small Business', 'New Client']</td>\n",
              "      <td>-15.54</td>\n",
              "      <td>-20.19</td>\n",
              "      <td>-4.65</td>\n",
              "      <td>0.3</td>\n",
              "      <td>14-May-2018</td>\n",
              "      <td>'Adult'</td>\n",
              "      <td>'Small Business'</td>\n",
              "      <td>'New Client'</td>\n",
              "      <td>Low</td>\n",
              "    </tr>\n",
              "  </tbody>\n",
              "</table>\n",
              "<p>7157 rows × 22 columns</p>\n",
              "</div>\n",
              "      <button class=\"colab-df-convert\" onclick=\"convertToInteractive('df-3bc2eff4-28fa-4e47-9df2-198e38aae9c7')\"\n",
              "              title=\"Convert this dataframe to an interactive table.\"\n",
              "              style=\"display:none;\">\n",
              "        \n",
              "  <svg xmlns=\"http://www.w3.org/2000/svg\" height=\"24px\"viewBox=\"0 0 24 24\"\n",
              "       width=\"24px\">\n",
              "    <path d=\"M0 0h24v24H0V0z\" fill=\"none\"/>\n",
              "    <path d=\"M18.56 5.44l.94 2.06.94-2.06 2.06-.94-2.06-.94-.94-2.06-.94 2.06-2.06.94zm-11 1L8.5 8.5l.94-2.06 2.06-.94-2.06-.94L8.5 2.5l-.94 2.06-2.06.94zm10 10l.94 2.06.94-2.06 2.06-.94-2.06-.94-.94-2.06-.94 2.06-2.06.94z\"/><path d=\"M17.41 7.96l-1.37-1.37c-.4-.4-.92-.59-1.43-.59-.52 0-1.04.2-1.43.59L10.3 9.45l-7.72 7.72c-.78.78-.78 2.05 0 2.83L4 21.41c.39.39.9.59 1.41.59.51 0 1.02-.2 1.41-.59l7.78-7.78 2.81-2.81c.8-.78.8-2.07 0-2.86zM5.41 20L4 18.59l7.72-7.72 1.47 1.35L5.41 20z\"/>\n",
              "  </svg>\n",
              "      </button>\n",
              "      \n",
              "  <style>\n",
              "    .colab-df-container {\n",
              "      display:flex;\n",
              "      flex-wrap:wrap;\n",
              "      gap: 12px;\n",
              "    }\n",
              "\n",
              "    .colab-df-convert {\n",
              "      background-color: #E8F0FE;\n",
              "      border: none;\n",
              "      border-radius: 50%;\n",
              "      cursor: pointer;\n",
              "      display: none;\n",
              "      fill: #1967D2;\n",
              "      height: 32px;\n",
              "      padding: 0 0 0 0;\n",
              "      width: 32px;\n",
              "    }\n",
              "\n",
              "    .colab-df-convert:hover {\n",
              "      background-color: #E2EBFA;\n",
              "      box-shadow: 0px 1px 2px rgba(60, 64, 67, 0.3), 0px 1px 3px 1px rgba(60, 64, 67, 0.15);\n",
              "      fill: #174EA6;\n",
              "    }\n",
              "\n",
              "    [theme=dark] .colab-df-convert {\n",
              "      background-color: #3B4455;\n",
              "      fill: #D2E3FC;\n",
              "    }\n",
              "\n",
              "    [theme=dark] .colab-df-convert:hover {\n",
              "      background-color: #434B5C;\n",
              "      box-shadow: 0px 1px 3px 1px rgba(0, 0, 0, 0.15);\n",
              "      filter: drop-shadow(0px 1px 2px rgba(0, 0, 0, 0.3));\n",
              "      fill: #FFFFFF;\n",
              "    }\n",
              "  </style>\n",
              "\n",
              "      <script>\n",
              "        const buttonEl =\n",
              "          document.querySelector('#df-3bc2eff4-28fa-4e47-9df2-198e38aae9c7 button.colab-df-convert');\n",
              "        buttonEl.style.display =\n",
              "          google.colab.kernel.accessAllowed ? 'block' : 'none';\n",
              "\n",
              "        async function convertToInteractive(key) {\n",
              "          const element = document.querySelector('#df-3bc2eff4-28fa-4e47-9df2-198e38aae9c7');\n",
              "          const dataTable =\n",
              "            await google.colab.kernel.invokeFunction('convertToInteractive',\n",
              "                                                     [key], {});\n",
              "          if (!dataTable) return;\n",
              "\n",
              "          const docLinkHtml = 'Like what you see? Visit the ' +\n",
              "            '<a target=\"_blank\" href=https://colab.research.google.com/notebooks/data_table.ipynb>data table notebook</a>'\n",
              "            + ' to learn more about interactive tables.';\n",
              "          element.innerHTML = '';\n",
              "          dataTable['output_type'] = 'display_data';\n",
              "          await google.colab.output.renderOutput(dataTable, element);\n",
              "          const docLink = document.createElement('div');\n",
              "          docLink.innerHTML = docLinkHtml;\n",
              "          element.appendChild(docLink);\n",
              "        }\n",
              "      </script>\n",
              "    </div>\n",
              "  </div>\n",
              "  "
            ]
          },
          "metadata": {},
          "execution_count": 131
        }
      ]
    },
    {
      "cell_type": "code",
      "source": [
        "#dropping columns\n",
        "#df= df.(drop['col_name'],axis=1)\n",
        "data = data.drop(['ClientKeywords'], axis = 1)\n",
        "data = data.drop(['Day'], axis = 1)\n",
        "data = data.drop(['Year'], axis = 1)\n",
        "#data = data.drop(['Month'], axis = 1)"
      ],
      "metadata": {
        "id": "QNPLmNf3KG5b"
      },
      "execution_count": null,
      "outputs": []
    },
    {
      "cell_type": "code",
      "source": [
        "data.info()"
      ],
      "metadata": {
        "colab": {
          "base_uri": "https://localhost:8080/"
        },
        "id": "WHhTZ_6mKrBL",
        "outputId": "89b58323-cb75-4e52-d005-6481e3c0a8f6"
      },
      "execution_count": null,
      "outputs": [
        {
          "output_type": "stream",
          "name": "stdout",
          "text": [
            "<class 'pandas.core.frame.DataFrame'>\n",
            "Int64Index: 7157 entries, 0 to 7156\n",
            "Data columns (total 18 columns):\n",
            " #   Column                  Non-Null Count  Dtype  \n",
            "---  ------                  --------------  -----  \n",
            " 0   UserId                  7157 non-null   int64  \n",
            " 1   TransactionId           7157 non-null   int64  \n",
            " 2   Time                    7157 non-null   object \n",
            " 3   ItemCode                7157 non-null   int64  \n",
            " 4   ItemDescription         7142 non-null   object \n",
            " 5   NumberOfItemsPurchased  7157 non-null   int64  \n",
            " 6   CostPerItem             7157 non-null   float64\n",
            " 7   SellingPricePerItem     7157 non-null   float64\n",
            " 8   Country                 7157 non-null   object \n",
            " 9   CostPerTransaction      7157 non-null   float64\n",
            " 10  SalesPertransaction     7157 non-null   float64\n",
            " 11  ProfitPerTransaction    7157 non-null   float64\n",
            " 12  Markup                  7123 non-null   float64\n",
            " 13  Date                    7157 non-null   object \n",
            " 14  ClientAge               7157 non-null   object \n",
            " 15  ClientType              7157 non-null   object \n",
            " 16  LengthofContract        7157 non-null   object \n",
            " 17  Season                  7157 non-null   object \n",
            "dtypes: float64(6), int64(4), object(8)\n",
            "memory usage: 1.0+ MB\n"
          ]
        }
      ]
    }
  ]
}